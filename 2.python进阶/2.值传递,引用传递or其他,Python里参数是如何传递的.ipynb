{
 "cells": [
  {
   "cell_type": "markdown",
   "metadata": {},
   "source": [
    "* 变量的赋值,只是标识让变量指向某个对象,并不表示拷贝对象给变量;而一个对象,可以被多个变量所指向\n",
    "* 可变对象(列表,字典,集合等)的改变,会影响所有指向该对象的变量\n",
    "* 对于不可变对象(字符串,整型,元组等),所有指向该对象的变量的值总是一样的,也不会改变,但是通过某些操作,更新不可变对象的值时,会返回一个新的对象\n",
    "* 变量可以被删除,但是对象无法被删除"
   ]
  },
  {
   "cell_type": "markdown",
   "metadata": {},
   "source": [
    "python的参数传递时**赋值传递**,或者叫做对象的**引用传递**,Python里所有的数据类型都是对象,所以参数传递时,只是让新变量与原变量指向相同的对象而已"
   ]
  },
  {
   "cell_type": "code",
   "execution_count": 1,
   "metadata": {},
   "outputs": [
    {
     "data": {
      "text/plain": [
       "1"
      ]
     },
     "execution_count": 1,
     "metadata": {},
     "output_type": "execute_result"
    }
   ],
   "source": [
    "def func(b):\n",
    "    b = 2\n",
    "a = 1\n",
    "func(a)\n",
    "a"
   ]
  },
  {
   "cell_type": "code",
   "execution_count": 5,
   "metadata": {},
   "outputs": [
    {
     "name": "stdout",
     "output_type": "stream",
     "text": [
      "2466251057928\n",
      "2466251057928\n"
     ]
    },
    {
     "data": {
      "text/plain": [
       "[1, 2, 3, 4]"
      ]
     },
     "execution_count": 5,
     "metadata": {},
     "output_type": "execute_result"
    }
   ],
   "source": [
    "def func2(l2):\n",
    "    print(id(l2))\n",
    "    l2.append(4)\n",
    "l1 = [1,2,3]\n",
    "print(id(l1))\n",
    "func2(l1)\n",
    "l1"
   ]
  },
  {
   "cell_type": "code",
   "execution_count": 3,
   "metadata": {},
   "outputs": [
    {
     "data": {
      "text/plain": [
       "[1, 2, 3]"
      ]
     },
     "execution_count": 3,
     "metadata": {},
     "output_type": "execute_result"
    }
   ],
   "source": [
    "def func3(l2):\n",
    "    #创建新列表\n",
    "    l2 = l2+ [4]\n",
    "l1 = [1,2,3]\n",
    "func3(l1)\n",
    "l1"
   ]
  },
  {
   "cell_type": "code",
   "execution_count": 4,
   "metadata": {},
   "outputs": [
    {
     "data": {
      "text/plain": [
       "True"
      ]
     },
     "execution_count": 4,
     "metadata": {},
     "output_type": "execute_result"
    }
   ],
   "source": [
    "l1 = [1,2,3]\n",
    "l2 = [1,2,3]\n",
    "l3 = l2\n",
    "\n",
    "l1 == l2 ==l3"
   ]
  }
 ],
 "metadata": {
  "kernelspec": {
   "display_name": "Python 3",
   "language": "python",
   "name": "python3"
  },
  "language_info": {
   "codemirror_mode": {
    "name": "ipython",
    "version": 3
   },
   "file_extension": ".py",
   "mimetype": "text/x-python",
   "name": "python",
   "nbconvert_exporter": "python",
   "pygments_lexer": "ipython3",
   "version": "3.7.4"
  }
 },
 "nbformat": 4,
 "nbformat_minor": 2
}
