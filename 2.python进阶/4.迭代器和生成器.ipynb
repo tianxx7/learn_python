{
 "cells": [
  {
   "cell_type": "markdown",
   "metadata": {},
   "source": [
    "### 1.迭代器"
   ]
  },
  {
   "cell_type": "markdown",
   "metadata": {},
   "source": [
    "什么对象可以使用for in来枚举呢"
   ]
  },
  {
   "cell_type": "markdown",
   "metadata": {},
   "source": [
    "列表(list:[1,2,3]),元组(tuple:(0,1,2)),字典(dict:{0:0,1:1,2:2}),集合(set:set([0,1,2]))都是容器.对于容器,区别在于内部实现"
   ]
  },
  {
   "cell_type": "markdown",
   "metadata": {},
   "source": [
    "* 所有容器都是可迭代的(iterable)\n",
    "* 可迭代对象,通过iter()函数返回一个迭代器,再通过next()函数就可以实现遍历,for in 语句将这个过程隐式化了"
   ]
  },
  {
   "cell_type": "markdown",
   "metadata": {},
   "source": [
    "##### 判断是否可迭代"
   ]
  },
  {
   "cell_type": "code",
   "execution_count": 6,
   "metadata": {},
   "outputs": [
    {
     "data": {
      "text/plain": [
       "True"
      ]
     },
     "execution_count": 6,
     "metadata": {},
     "output_type": "execute_result"
    }
   ],
   "source": [
    "isinstance([1,2,3],list)"
   ]
  },
  {
   "cell_type": "code",
   "execution_count": 1,
   "metadata": {},
   "outputs": [
    {
     "data": {
      "text/plain": [
       "True"
      ]
     },
     "execution_count": 1,
     "metadata": {},
     "output_type": "execute_result"
    }
   ],
   "source": [
    "from collections.abc import Iterable\n",
    "isinstance([1,2,3],Iterable)"
   ]
  },
  {
   "cell_type": "code",
   "execution_count": 2,
   "metadata": {},
   "outputs": [
    {
     "name": "stdout",
     "output_type": "stream",
     "text": [
      "1234 is iterable? False\n",
      "1,2,3,4 is iterable? True\n",
      "[1, 2, 3, 4] is iterable? True\n",
      "{1, 2, 3, 4} is iterable? True\n",
      "{1: 1, 2: 2, 3: 3, 4: 4} is iterable? True\n",
      "(1, 2, 3, 4) is iterable? True\n"
     ]
    }
   ],
   "source": [
    "def is_iterable(param):\n",
    "    try:\n",
    "        iter(param)\n",
    "        return True\n",
    "    except TypeError:\n",
    "        return False\n",
    "\n",
    "params = [1234,'1,2,3,4',[1,2,3,4],set([1,2,3,4]),{1:1,2:2,3:3,4:4},(1,2,3,4)]\n",
    "for param in params:\n",
    "    print('{} is iterable? {}'.format(param,is_iterable(param)))"
   ]
  },
  {
   "cell_type": "markdown",
   "metadata": {},
   "source": [
    "### 2.生成器"
   ]
  },
  {
   "cell_type": "code",
   "execution_count": 3,
   "metadata": {},
   "outputs": [],
   "source": [
    "#需要系统权限,这个在pycharm下实验吧\n",
    "#或者在colab下运行\n",
    "import os\n",
    "import psutil\n",
    "\n",
    "#显示当前python占用的内存大小\n",
    "def show_memory_info(hint):\n",
    "    pid = os.getpid()\n",
    "    p = psutil.Process(pid)\n",
    "    \n",
    "    info = p.memory_full_info()\n",
    "    print(info)\n",
    "    memory = info.uss / 1024. / 1024\n",
    "    print('{} memory used: {} MB'.format(hint,memory))"
   ]
  },
  {
   "cell_type": "code",
   "execution_count": 4,
   "metadata": {},
   "outputs": [],
   "source": [
    "def test_iterator():\n",
    "    show_memory_info(\"initing iterator\")\n",
    "    list_1 = [i for i in range(100000000)]\n",
    "    show_memory_info(\"after iterator initiated\")\n",
    "    print(sum(list_1))\n",
    "    show_memory_info(\"after sum called\")"
   ]
  },
  {
   "cell_type": "code",
   "execution_count": 5,
   "metadata": {},
   "outputs": [],
   "source": [
    "def test_generator():\n",
    "    show_memory_info(\"initiong generator\")\n",
    "    list_2 = (i for i in range(100000000))\n",
    "    show_memory_info(\"after generator initiated\")\n",
    "    print(sum(list_2))\n",
    "    show_memory_info(\"after sum called\")"
   ]
  },
  {
   "cell_type": "code",
   "execution_count": 4,
   "metadata": {},
   "outputs": [
    {
     "ename": "AccessDenied",
     "evalue": "psutil.AccessDenied (pid=14980)",
     "output_type": "error",
     "traceback": [
      "\u001b[1;31m---------------------------------------------------------------------------\u001b[0m",
      "\u001b[1;31mPermissionError\u001b[0m                           Traceback (most recent call last)",
      "\u001b[1;32mD:\\Program Files\\Anaconda3\\lib\\site-packages\\psutil\\_pswindows.py\u001b[0m in \u001b[0;36mwrapper\u001b[1;34m(self, *args, **kwargs)\u001b[0m\n\u001b[0;32m    715\u001b[0m         \u001b[1;32mtry\u001b[0m\u001b[1;33m:\u001b[0m\u001b[1;33m\u001b[0m\u001b[1;33m\u001b[0m\u001b[0m\n\u001b[1;32m--> 716\u001b[1;33m             \u001b[1;32mreturn\u001b[0m \u001b[0mfun\u001b[0m\u001b[1;33m(\u001b[0m\u001b[0mself\u001b[0m\u001b[1;33m,\u001b[0m \u001b[1;33m*\u001b[0m\u001b[0margs\u001b[0m\u001b[1;33m,\u001b[0m \u001b[1;33m**\u001b[0m\u001b[0mkwargs\u001b[0m\u001b[1;33m)\u001b[0m\u001b[1;33m\u001b[0m\u001b[1;33m\u001b[0m\u001b[0m\n\u001b[0m\u001b[0;32m    717\u001b[0m         \u001b[1;32mexcept\u001b[0m \u001b[0mOSError\u001b[0m \u001b[1;32mas\u001b[0m \u001b[0merr\u001b[0m\u001b[1;33m:\u001b[0m\u001b[1;33m\u001b[0m\u001b[1;33m\u001b[0m\u001b[0m\n",
      "\u001b[1;32mD:\\Program Files\\Anaconda3\\lib\\site-packages\\psutil\\_pswindows.py\u001b[0m in \u001b[0;36mmemory_full_info\u001b[1;34m(self)\u001b[0m\n\u001b[0;32m    850\u001b[0m         \u001b[0mbasic_mem\u001b[0m \u001b[1;33m=\u001b[0m \u001b[0mself\u001b[0m\u001b[1;33m.\u001b[0m\u001b[0mmemory_info\u001b[0m\u001b[1;33m(\u001b[0m\u001b[1;33m)\u001b[0m\u001b[1;33m\u001b[0m\u001b[1;33m\u001b[0m\u001b[0m\n\u001b[1;32m--> 851\u001b[1;33m         \u001b[0muss\u001b[0m \u001b[1;33m=\u001b[0m \u001b[0mcext\u001b[0m\u001b[1;33m.\u001b[0m\u001b[0mproc_memory_uss\u001b[0m\u001b[1;33m(\u001b[0m\u001b[0mself\u001b[0m\u001b[1;33m.\u001b[0m\u001b[0mpid\u001b[0m\u001b[1;33m)\u001b[0m\u001b[1;33m\u001b[0m\u001b[1;33m\u001b[0m\u001b[0m\n\u001b[0m\u001b[0;32m    852\u001b[0m         \u001b[0muss\u001b[0m \u001b[1;33m*=\u001b[0m \u001b[0mgetpagesize\u001b[0m\u001b[1;33m(\u001b[0m\u001b[1;33m)\u001b[0m\u001b[1;33m\u001b[0m\u001b[1;33m\u001b[0m\u001b[0m\n",
      "\u001b[1;31mPermissionError\u001b[0m: [Errno 13] Permission denied",
      "\nDuring handling of the above exception, another exception occurred:\n",
      "\u001b[1;31mAccessDenied\u001b[0m                              Traceback (most recent call last)",
      "\u001b[1;32m<ipython-input-4-f39dca4edfba>\u001b[0m in \u001b[0;36m<module>\u001b[1;34m\u001b[0m\n\u001b[1;32m----> 1\u001b[1;33m \u001b[0mtest_iterator\u001b[0m\u001b[1;33m(\u001b[0m\u001b[1;33m)\u001b[0m\u001b[1;33m\u001b[0m\u001b[1;33m\u001b[0m\u001b[0m\n\u001b[0m\u001b[0;32m      2\u001b[0m \u001b[0mtest_generator\u001b[0m\u001b[1;33m(\u001b[0m\u001b[1;33m)\u001b[0m\u001b[1;33m\u001b[0m\u001b[1;33m\u001b[0m\u001b[0m\n",
      "\u001b[1;32m<ipython-input-2-26251a93298d>\u001b[0m in \u001b[0;36mtest_iterator\u001b[1;34m()\u001b[0m\n\u001b[0;32m      1\u001b[0m \u001b[1;32mdef\u001b[0m \u001b[0mtest_iterator\u001b[0m\u001b[1;33m(\u001b[0m\u001b[1;33m)\u001b[0m\u001b[1;33m:\u001b[0m\u001b[1;33m\u001b[0m\u001b[1;33m\u001b[0m\u001b[0m\n\u001b[1;32m----> 2\u001b[1;33m     \u001b[0mshow_memory_info\u001b[0m\u001b[1;33m(\u001b[0m\u001b[1;34m\"initing iterator\"\u001b[0m\u001b[1;33m)\u001b[0m\u001b[1;33m\u001b[0m\u001b[1;33m\u001b[0m\u001b[0m\n\u001b[0m\u001b[0;32m      3\u001b[0m     \u001b[0mlist_1\u001b[0m \u001b[1;33m=\u001b[0m \u001b[1;33m[\u001b[0m\u001b[0mi\u001b[0m \u001b[1;32mfor\u001b[0m \u001b[0mi\u001b[0m \u001b[1;32min\u001b[0m \u001b[0mrange\u001b[0m\u001b[1;33m(\u001b[0m\u001b[1;36m100000000\u001b[0m\u001b[1;33m)\u001b[0m\u001b[1;33m]\u001b[0m\u001b[1;33m\u001b[0m\u001b[1;33m\u001b[0m\u001b[0m\n\u001b[0;32m      4\u001b[0m     \u001b[0mshow_memory_info\u001b[0m\u001b[1;33m(\u001b[0m\u001b[1;34m\"after iterator initiated\"\u001b[0m\u001b[1;33m)\u001b[0m\u001b[1;33m\u001b[0m\u001b[1;33m\u001b[0m\u001b[0m\n\u001b[0;32m      5\u001b[0m     \u001b[0mprint\u001b[0m\u001b[1;33m(\u001b[0m\u001b[0msum\u001b[0m\u001b[1;33m(\u001b[0m\u001b[0mlist_1\u001b[0m\u001b[1;33m)\u001b[0m\u001b[1;33m)\u001b[0m\u001b[1;33m\u001b[0m\u001b[1;33m\u001b[0m\u001b[0m\n",
      "\u001b[1;32m<ipython-input-1-568d2ab4dcaf>\u001b[0m in \u001b[0;36mshow_memory_info\u001b[1;34m(hint)\u001b[0m\n\u001b[0;32m      7\u001b[0m     \u001b[0mp\u001b[0m \u001b[1;33m=\u001b[0m \u001b[0mpsutil\u001b[0m\u001b[1;33m.\u001b[0m\u001b[0mProcess\u001b[0m\u001b[1;33m(\u001b[0m\u001b[0mpid\u001b[0m\u001b[1;33m)\u001b[0m\u001b[1;33m\u001b[0m\u001b[1;33m\u001b[0m\u001b[0m\n\u001b[0;32m      8\u001b[0m \u001b[1;33m\u001b[0m\u001b[0m\n\u001b[1;32m----> 9\u001b[1;33m     \u001b[0minfo\u001b[0m \u001b[1;33m=\u001b[0m \u001b[0mp\u001b[0m\u001b[1;33m.\u001b[0m\u001b[0mmemory_full_info\u001b[0m\u001b[1;33m(\u001b[0m\u001b[1;33m)\u001b[0m\u001b[1;33m\u001b[0m\u001b[1;33m\u001b[0m\u001b[0m\n\u001b[0m\u001b[0;32m     10\u001b[0m     \u001b[0mprint\u001b[0m\u001b[1;33m(\u001b[0m\u001b[0minfo\u001b[0m\u001b[1;33m)\u001b[0m\u001b[1;33m\u001b[0m\u001b[1;33m\u001b[0m\u001b[0m\n\u001b[0;32m     11\u001b[0m     \u001b[0mmemory\u001b[0m \u001b[1;33m=\u001b[0m \u001b[0minfo\u001b[0m\u001b[1;33m.\u001b[0m\u001b[0muss\u001b[0m \u001b[1;33m/\u001b[0m \u001b[1;36m1024.\u001b[0m \u001b[1;33m/\u001b[0m \u001b[1;36m1024\u001b[0m\u001b[1;33m\u001b[0m\u001b[1;33m\u001b[0m\u001b[0m\n",
      "\u001b[1;32mD:\\Program Files\\Anaconda3\\lib\\site-packages\\psutil\\__init__.py\u001b[0m in \u001b[0;36mmemory_full_info\u001b[1;34m(self)\u001b[0m\n\u001b[0;32m   1188\u001b[0m         \u001b[0mmemory_info\u001b[0m\u001b[1;33m(\u001b[0m\u001b[1;33m)\u001b[0m \u001b[1;32mand\u001b[0m \u001b[1;32mis\u001b[0m \u001b[0mconsiderably\u001b[0m \u001b[0mslower\u001b[0m\u001b[1;33m.\u001b[0m\u001b[1;33m\u001b[0m\u001b[1;33m\u001b[0m\u001b[0m\n\u001b[0;32m   1189\u001b[0m         \"\"\"\n\u001b[1;32m-> 1190\u001b[1;33m         \u001b[1;32mreturn\u001b[0m \u001b[0mself\u001b[0m\u001b[1;33m.\u001b[0m\u001b[0m_proc\u001b[0m\u001b[1;33m.\u001b[0m\u001b[0mmemory_full_info\u001b[0m\u001b[1;33m(\u001b[0m\u001b[1;33m)\u001b[0m\u001b[1;33m\u001b[0m\u001b[1;33m\u001b[0m\u001b[0m\n\u001b[0m\u001b[0;32m   1191\u001b[0m \u001b[1;33m\u001b[0m\u001b[0m\n\u001b[0;32m   1192\u001b[0m     \u001b[1;32mdef\u001b[0m \u001b[0mmemory_percent\u001b[0m\u001b[1;33m(\u001b[0m\u001b[0mself\u001b[0m\u001b[1;33m,\u001b[0m \u001b[0mmemtype\u001b[0m\u001b[1;33m=\u001b[0m\u001b[1;34m\"rss\"\u001b[0m\u001b[1;33m)\u001b[0m\u001b[1;33m:\u001b[0m\u001b[1;33m\u001b[0m\u001b[1;33m\u001b[0m\u001b[0m\n",
      "\u001b[1;32mD:\\Program Files\\Anaconda3\\lib\\site-packages\\psutil\\_pswindows.py\u001b[0m in \u001b[0;36mwrapper\u001b[1;34m(self, *args, **kwargs)\u001b[0m\n\u001b[0;32m    716\u001b[0m             \u001b[1;32mreturn\u001b[0m \u001b[0mfun\u001b[0m\u001b[1;33m(\u001b[0m\u001b[0mself\u001b[0m\u001b[1;33m,\u001b[0m \u001b[1;33m*\u001b[0m\u001b[0margs\u001b[0m\u001b[1;33m,\u001b[0m \u001b[1;33m**\u001b[0m\u001b[0mkwargs\u001b[0m\u001b[1;33m)\u001b[0m\u001b[1;33m\u001b[0m\u001b[1;33m\u001b[0m\u001b[0m\n\u001b[0;32m    717\u001b[0m         \u001b[1;32mexcept\u001b[0m \u001b[0mOSError\u001b[0m \u001b[1;32mas\u001b[0m \u001b[0merr\u001b[0m\u001b[1;33m:\u001b[0m\u001b[1;33m\u001b[0m\u001b[1;33m\u001b[0m\u001b[0m\n\u001b[1;32m--> 718\u001b[1;33m             \u001b[1;32mraise\u001b[0m \u001b[0mconvert_oserror\u001b[0m\u001b[1;33m(\u001b[0m\u001b[0merr\u001b[0m\u001b[1;33m,\u001b[0m \u001b[0mpid\u001b[0m\u001b[1;33m=\u001b[0m\u001b[0mself\u001b[0m\u001b[1;33m.\u001b[0m\u001b[0mpid\u001b[0m\u001b[1;33m,\u001b[0m \u001b[0mname\u001b[0m\u001b[1;33m=\u001b[0m\u001b[0mself\u001b[0m\u001b[1;33m.\u001b[0m\u001b[0m_name\u001b[0m\u001b[1;33m)\u001b[0m\u001b[1;33m\u001b[0m\u001b[1;33m\u001b[0m\u001b[0m\n\u001b[0m\u001b[0;32m    719\u001b[0m     \u001b[1;32mreturn\u001b[0m \u001b[0mwrapper\u001b[0m\u001b[1;33m\u001b[0m\u001b[1;33m\u001b[0m\u001b[0m\n\u001b[0;32m    720\u001b[0m \u001b[1;33m\u001b[0m\u001b[0m\n",
      "\u001b[1;31mAccessDenied\u001b[0m: psutil.AccessDenied (pid=14980)"
     ]
    }
   ],
   "source": [
    "test_iterator()\n",
    "test_generator()\n",
    "# 这个可以在Google 的colab中运行,这个是不会有异常的\n",
    "#本笔记已经上传至https://colab.research.google.com/drive/1rA8AuArZW31Ch12tFueLOEnYBcc7HMeX#scrollTo=S_lja12leume"
   ]
  },
  {
   "cell_type": "markdown",
   "metadata": {},
   "source": [
    "生成器在python的写法是用小括号括起来,(i for i in range(1000)),即初始化了一个生成器"
   ]
  },
  {
   "cell_type": "code",
   "execution_count": 34,
   "metadata": {},
   "outputs": [
    {
     "name": "stdout",
     "output_type": "stream",
     "text": [
      "<generator object generator at 0x000001895107E5C8>\n",
      "<generator object generator at 0x000001895107E348>\n",
      "next_1 = 1 next_3 =1\n",
      "next_1 = 2 next_3 =8\n",
      "next_1 = 3 next_3 =27\n",
      "next_1 = 4 next_3 =64\n",
      "next_1 = 5 next_3 =125\n",
      "next_1 = 6 next_3 =216\n",
      "next_1 = 7 next_3 =343\n",
      "next_1 = 8 next_3 =512\n",
      "1296 1296\n"
     ]
    }
   ],
   "source": [
    "def generator(k):\n",
    "    i = 1\n",
    "    while True:\n",
    "        #运行到这里会暂停,然后跳出到next()函数\n",
    "        yield i ** k\n",
    "        i += 1\n",
    "gen_1 = generator(1)\n",
    "gen_3 = generator(3)\n",
    "print(gen_1)\n",
    "print(gen_3)\n",
    "\n",
    "\n",
    "def get_sum(n):\n",
    "    sum_1, sum_3 = 0, 0\n",
    "    for i in range(n):\n",
    "        #调用next()暂停程序复活\n",
    "        next_1 = next(gen_1)\n",
    "        next_3 = next(gen_3)\n",
    "        print(\"next_1 = {} next_3 ={}\".format(next_1,next_3))\n",
    "        sum_1 += next_1\n",
    "        sum_3 += next_3\n",
    "    print(sum_1 * sum_1, sum_3)\n",
    "    \n",
    "get_sum(8)"
   ]
  },
  {
   "cell_type": "markdown",
   "metadata": {},
   "source": [
    "generator()函数,返回了一个生成器.\n",
    "yield是魔术的关键,可以理解为 yield这里程序会跳出来,跳到next()函数,i ** k 可以当作next()函数的返回值<br/>\n",
    "这样,每次next(gen)函数被调用的时候,暂停的程序就又复活了,从yield这里向下继续执行;注意局部变量i并没有被清除掉,而是会继续累加."
   ]
  },
  {
   "cell_type": "markdown",
   "metadata": {},
   "source": [
    "> 给定一个list和一个指定的数字,求这个数字在list中的位置"
   ]
  },
  {
   "cell_type": "code",
   "execution_count": 36,
   "metadata": {},
   "outputs": [
    {
     "name": "stdout",
     "output_type": "stream",
     "text": [
      "[1, 5, 9]\n"
     ]
    }
   ],
   "source": [
    "def index_normal(L, target):\n",
    "    result = []\n",
    "    for i, num in enumerate(L):\n",
    "        if num == target:\n",
    "            result.append(i)\n",
    "    return result\n",
    "\n",
    "print(index_normal([1,2,3,4,5,2,7,9,6,2],2))"
   ]
  },
  {
   "cell_type": "markdown",
   "metadata": {},
   "source": [
    "使用迭代器"
   ]
  },
  {
   "cell_type": "code",
   "execution_count": 38,
   "metadata": {},
   "outputs": [
    {
     "name": "stdout",
     "output_type": "stream",
     "text": [
      "[1, 5, 9]\n"
     ]
    }
   ],
   "source": [
    "def index_generator(L, target):\n",
    "    for i,num in enumerate(L):\n",
    "        if num == target:\n",
    "            yield i\n",
    "print(list(index_generator([1,2,3,4,5,2,7,9,6,2],2)))"
   ]
  },
  {
   "cell_type": "markdown",
   "metadata": {},
   "source": [
    "index_generator会返回一个Generator对象,需要使用list转换为列表后,才能用print输出"
   ]
  },
  {
   "cell_type": "markdown",
   "metadata": {},
   "source": [
    "> 给定两个序列,判定第一个是不是第二个的子序列"
   ]
  },
  {
   "cell_type": "code",
   "execution_count": 47,
   "metadata": {},
   "outputs": [
    {
     "name": "stdout",
     "output_type": "stream",
     "text": [
      "True\n",
      "True\n"
     ]
    }
   ],
   "source": [
    "def is_subsequence(a,b):\n",
    "    b = iter(b)\n",
    "    return all(i in b for i in a)\n",
    "\n",
    "print(is_subsequence([1, 3, 5], [1, 2, 3, 4, 5]))\n",
    "print(is_subsequence([1, 4, 3], [1, 2, 3, 4, 5]))"
   ]
  },
  {
   "cell_type": "code",
   "execution_count": 48,
   "metadata": {},
   "outputs": [
    {
     "name": "stdout",
     "output_type": "stream",
     "text": [
      "True\n",
      "True\n"
     ]
    }
   ],
   "source": [
    "def is_subsequence(a,b):\n",
    "    #b = iter(b)\n",
    "    return all(i in b for i in a)\n",
    "\n",
    "print(is_subsequence([1, 3, 5], [1, 2, 3, 4, 5]))\n",
    "print(is_subsequence([1, 4, 3], [1, 2, 3, 4, 5]))"
   ]
  },
  {
   "cell_type": "code",
   "execution_count": 49,
   "metadata": {},
   "outputs": [
    {
     "data": {
      "text/plain": [
       "True"
      ]
     },
     "execution_count": 49,
     "metadata": {},
     "output_type": "execute_result"
    }
   ],
   "source": [
    "357 in iter([1,2,3,357])"
   ]
  },
  {
   "cell_type": "code",
   "execution_count": 50,
   "metadata": {},
   "outputs": [
    {
     "data": {
      "text/plain": [
       "True"
      ]
     },
     "execution_count": 50,
     "metadata": {},
     "output_type": "execute_result"
    }
   ],
   "source": [
    "357 in [1,2,3,357]"
   ]
  },
  {
   "cell_type": "code",
   "execution_count": 56,
   "metadata": {},
   "outputs": [
    {
     "data": {
      "text/plain": [
       "[True, True, True]"
      ]
     },
     "execution_count": 56,
     "metadata": {},
     "output_type": "execute_result"
    }
   ],
   "source": [
    "b = iter([1,2,3,4,5])\n",
    "a = [1,3,5]\n",
    "[i in b for i in a]"
   ]
  },
  {
   "cell_type": "code",
   "execution_count": 57,
   "metadata": {},
   "outputs": [
    {
     "data": {
      "text/plain": [
       "False"
      ]
     },
     "execution_count": 57,
     "metadata": {},
     "output_type": "execute_result"
    }
   ],
   "source": [
    "all([True,False])"
   ]
  },
  {
   "cell_type": "code",
   "execution_count": 58,
   "metadata": {},
   "outputs": [
    {
     "data": {
      "text/plain": [
       "True"
      ]
     },
     "execution_count": 58,
     "metadata": {},
     "output_type": "execute_result"
    }
   ],
   "source": [
    "all([True,True])"
   ]
  },
  {
   "cell_type": "code",
   "execution_count": 60,
   "metadata": {},
   "outputs": [
    {
     "name": "stdout",
     "output_type": "stream",
     "text": [
      "True\n",
      "True\n",
      "True\n",
      "False\n"
     ]
    }
   ],
   "source": [
    "b = iter([1,2,3,4,5])\n",
    "print(1 in b)\n",
    "print(2 in b)\n",
    "print(4 in b)\n",
    "print(3 in b)"
   ]
  },
  {
   "cell_type": "code",
   "execution_count": null,
   "metadata": {},
   "outputs": [],
   "source": []
  }
 ],
 "metadata": {
  "kernelspec": {
   "display_name": "Python 3",
   "language": "python",
   "name": "python3"
  },
  "language_info": {
   "codemirror_mode": {
    "name": "ipython",
    "version": 3
   },
   "file_extension": ".py",
   "mimetype": "text/x-python",
   "name": "python",
   "nbconvert_exporter": "python",
   "pygments_lexer": "ipython3",
   "version": "3.7.4"
  }
 },
 "nbformat": 4,
 "nbformat_minor": 2
}
