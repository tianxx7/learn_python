{
 "cells": [
  {
   "cell_type": "markdown",
   "metadata": {},
   "source": [
    "可以把函数,类,常量拆分到不同的文件,把他们放在同一个文件夹下,然后使用<br/>\n",
    "``` python\n",
    "from your_file import function_name, class_name\n",
    "```"
   ]
  },
  {
   "cell_type": "markdown",
   "metadata": {},
   "source": [
    "jupyter不知道怎么模块化,模块化还是用ide比较合适,jupyter还是写类似笔记的比较合适<br/>\n",
    "**模块化参考src下modules目录**"
   ]
  },
  {
   "cell_type": "code",
   "execution_count": 2,
   "metadata": {},
   "outputs": [],
   "source": [
    "import sys"
   ]
  },
  {
   "cell_type": "code",
   "execution_count": 3,
   "metadata": {},
   "outputs": [
    {
     "name": "stdout",
     "output_type": "stream",
     "text": [
      "['D:\\\\project\\\\ai\\\\first\\\\1.python基础知识', 'D:\\\\Program Files\\\\Anaconda3\\\\python37.zip', 'D:\\\\Program Files\\\\Anaconda3\\\\DLLs', 'D:\\\\Program Files\\\\Anaconda3\\\\lib', 'D:\\\\Program Files\\\\Anaconda3', '', 'D:\\\\Program Files\\\\Anaconda3\\\\lib\\\\site-packages', 'D:\\\\Program Files\\\\Anaconda3\\\\lib\\\\site-packages\\\\win32', 'D:\\\\Program Files\\\\Anaconda3\\\\lib\\\\site-packages\\\\win32\\\\lib', 'D:\\\\Program Files\\\\Anaconda3\\\\lib\\\\site-packages\\\\Pythonwin', 'D:\\\\Program Files\\\\Anaconda3\\\\lib\\\\site-packages\\\\IPython\\\\extensions', 'C:\\\\Users\\\\labvi\\\\.ipython']\n"
     ]
    }
   ],
   "source": [
    "print(sys.path)"
   ]
  }
 ],
 "metadata": {
  "kernelspec": {
   "display_name": "Python 3",
   "language": "python",
   "name": "python3"
  },
  "language_info": {
   "codemirror_mode": {
    "name": "ipython",
    "version": 3
   },
   "file_extension": ".py",
   "mimetype": "text/x-python",
   "name": "python",
   "nbconvert_exporter": "python",
   "pygments_lexer": "ipython3",
   "version": "3.7.4"
  }
 },
 "nbformat": 4,
 "nbformat_minor": 2
}
