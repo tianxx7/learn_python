{
 "cells": [
  {
   "cell_type": "markdown",
   "metadata": {},
   "source": [
    "这一节,我们以搜索引擎为背景,做一个面对对象的搜索引擎,来巩固面对对象思想"
   ]
  },
  {
   "cell_type": "markdown",
   "metadata": {},
   "source": [
    "一个搜索引擎由搜索器,索引器,检索器和用户接口组成"
   ]
  },
  {
   "cell_type": "markdown",
   "metadata": {},
   "source": [
    "#### 定义SearchEngineBase基类"
   ]
  },
  {
   "cell_type": "code",
   "execution_count": 1,
   "metadata": {},
   "outputs": [],
   "source": [
    "class SearchEngineBase(object):\n",
    "    def __init__(self):\n",
    "        pass\n",
    "    \n",
    "    # 负责读取文件内容,将文件路径作为id,连同内容一起发送给process_corpus中\n",
    "    def add_corpus(self, file_path):\n",
    "        with open(file_path, 'r') as fin:\n",
    "            text = fin.read()\n",
    "        self.process_corpus(file_path, text)\n",
    "    \n",
    "    #需要对内容进行处理,然后文件路径为id,将处理后的内容保存下来,\n",
    "    def process_corpus(self, id, text):\n",
    "        raise Exception('process_corpus not implement')\n",
    "    \n",
    "    #查询\n",
    "    def search(self,query):\n",
    "        raise Exception('search not implement')\n",
    "    \n",
    "def main(search_engine):\n",
    "    for file_path in ['../resources/1.txt', '../resources/2.txt', '../resources/3.txt', '../resources/4.txt', '../resources/5.txt']:\n",
    "        search_engine.add_corpus(file_path)\n",
    "        \n",
    "    while True:\n",
    "        query = input()\n",
    "        if query == 'quit':\n",
    "            break\n",
    "        results = search_engine.search(query)\n",
    "        print('found {} result(s):'.format(len(results)))\n",
    "        for result in results:\n",
    "            print(result)"
   ]
  },
  {
   "cell_type": "code",
   "execution_count": 2,
   "metadata": {},
   "outputs": [
    {
     "name": "stdout",
     "output_type": "stream",
     "text": [
      "simple\n",
      "found 0 result(s):\n",
      "quit\n"
     ]
    }
   ],
   "source": [
    "class SimpleEngine(SearchEngineBase):\n",
    "    def __init__(self):\n",
    "        #下面是py2的写法\n",
    "        super(SimpleEngine, self).__init__()\n",
    "        self.__id_to_texts = {}\n",
    "        \n",
    "    def process_corpus(self, id, text):\n",
    "        self.__id_to_texts[id] = text\n",
    "    \n",
    "    def search(self, query):\n",
    "        results = []\n",
    "        for id, text in self.__id_to_texts.items():\n",
    "            if query in text:\n",
    "                results.append(id)\n",
    "        return results\n",
    "    \n",
    "search_engine = SimpleEngine()\n",
    "main(search_engine)"
   ]
  },
  {
   "cell_type": "markdown",
   "metadata": {},
   "source": [
    "### Bag of Worlds 和 Inverted Index"
   ]
  },
  {
   "cell_type": "code",
   "execution_count": 3,
   "metadata": {},
   "outputs": [],
   "source": [
    "import re"
   ]
  },
  {
   "cell_type": "code",
   "execution_count": 4,
   "metadata": {},
   "outputs": [],
   "source": [
    "class BOWEngine(SearchEngineBase):\n",
    "    def __init__(self):\n",
    "        super(BOWEngine, self).__init__()\n",
    "        self.__id_to_words = {}\n",
    " \n",
    "    def process_corpus(self, id, text):\n",
    "        self.__id_to_words[id] = self.parse_text_to_words(text)\n",
    " \n",
    "    def search(self, query):\n",
    "        query_words = self.parse_text_to_words(query)\n",
    "        results = []\n",
    "        for id, words in self.__id_to_words.items():\n",
    "            if self.query_match(query_words, words):\n",
    "                results.append(id)\n",
    "        return results\n",
    "    \n",
    "    #用户输入的查询单词都在我的集合中\n",
    "    @staticmethod\n",
    "    def query_match(query_words, words):\n",
    "        for query_word in query_words:\n",
    "            if query_word not in words:\n",
    "                return False\n",
    "        return True\n",
    " \n",
    "    @staticmethod\n",
    "    def parse_text_to_words(text):\n",
    "        # 使用正则表达式去除标点符号和换行符\n",
    "        text = re.sub(r'[^\\w ]', ' ', text)\n",
    "        # 转为小写\n",
    "        text = text.lower()\n",
    "        # 生成所有单词的列表\n",
    "        word_list = text.split(' ')\n",
    "        # 去除空白单词\n",
    "        word_list = filter(None, word_list)\n",
    "        # 返回单词的 set\n",
    "        return set(word_list)"
   ]
  },
  {
   "cell_type": "code",
   "execution_count": 5,
   "metadata": {},
   "outputs": [
    {
     "name": "stdout",
     "output_type": "stream",
     "text": [
      "i have a dream\n",
      "found 3 result(s):\n",
      "../resources/1.txt\n",
      "../resources/2.txt\n",
      "../resources/3.txt\n",
      "quit\n"
     ]
    }
   ],
   "source": [
    "search_engine=BOWEngine()\n",
    "main(search_engine)"
   ]
  },
  {
   "cell_type": "code",
   "execution_count": null,
   "metadata": {},
   "outputs": [],
   "source": [
    "#没更新完这部分"
   ]
  }
 ],
 "metadata": {
  "kernelspec": {
   "display_name": "Python 3",
   "language": "python",
   "name": "python3"
  },
  "language_info": {
   "codemirror_mode": {
    "name": "ipython",
    "version": 3
   },
   "file_extension": ".py",
   "mimetype": "text/x-python",
   "name": "python",
   "nbconvert_exporter": "python",
   "pygments_lexer": "ipython3",
   "version": "3.7.4"
  }
 },
 "nbformat": 4,
 "nbformat_minor": 2
}
