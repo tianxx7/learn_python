{
 "cells": [
  {
   "cell_type": "markdown",
   "metadata": {},
   "source": [
    "### 1.声明一个对象"
   ]
  },
  {
   "cell_type": "code",
   "execution_count": 1,
   "metadata": {},
   "outputs": [
    {
     "name": "stdout",
     "output_type": "stream",
     "text": [
      "init function called\n",
      "Harry Potter\n",
      "J.K.Rowling\n",
      "77\n"
     ]
    }
   ],
   "source": [
    "class Document():\n",
    "    def __init__(self,title,author,context):\n",
    "        print('init function called')\n",
    "        self.title = title\n",
    "        self.author = author\n",
    "        self.__context = context # __开头的属性是私有的\n",
    "    def get_context_length(self):\n",
    "        return len(self.__context)\n",
    "    def intercept_context(self,length):\n",
    "        self.__context = self.__context[:length]\n",
    "\n",
    "harry_potter_book = Document('Harry Potter','J.K.Rowling','... Forever Do not believe any thing is capable of thinking independently ...')\n",
    "print(harry_potter_book.title)\n",
    "print(harry_potter_book.author)\n",
    "print(harry_potter_book.get_context_length())"
   ]
  },
  {
   "cell_type": "code",
   "execution_count": 4,
   "metadata": {},
   "outputs": [
    {
     "name": "stdout",
     "output_type": "stream",
     "text": [
      "10\n"
     ]
    },
    {
     "ename": "AttributeError",
     "evalue": "'Document' object has no attribute '__context'",
     "output_type": "error",
     "traceback": [
      "\u001b[1;31m---------------------------------------------------------------------------\u001b[0m",
      "\u001b[1;31mAttributeError\u001b[0m                            Traceback (most recent call last)",
      "\u001b[1;32m<ipython-input-4-fedc064fe221>\u001b[0m in \u001b[0;36m<module>\u001b[1;34m\u001b[0m\n\u001b[0;32m      1\u001b[0m \u001b[0mharry_potter_book\u001b[0m\u001b[1;33m.\u001b[0m\u001b[0mintercept_context\u001b[0m\u001b[1;33m(\u001b[0m\u001b[1;36m10\u001b[0m\u001b[1;33m)\u001b[0m\u001b[1;33m\u001b[0m\u001b[1;33m\u001b[0m\u001b[0m\n\u001b[0;32m      2\u001b[0m \u001b[0mprint\u001b[0m\u001b[1;33m(\u001b[0m\u001b[0mharry_potter_book\u001b[0m\u001b[1;33m.\u001b[0m\u001b[0mget_context_length\u001b[0m\u001b[1;33m(\u001b[0m\u001b[1;33m)\u001b[0m\u001b[1;33m)\u001b[0m\u001b[1;33m\u001b[0m\u001b[1;33m\u001b[0m\u001b[0m\n\u001b[1;32m----> 3\u001b[1;33m \u001b[0mprint\u001b[0m\u001b[1;33m(\u001b[0m\u001b[0mharry_potter_book\u001b[0m\u001b[1;33m.\u001b[0m\u001b[0m__context\u001b[0m\u001b[1;33m)\u001b[0m\u001b[1;33m\u001b[0m\u001b[1;33m\u001b[0m\u001b[0m\n\u001b[0m",
      "\u001b[1;31mAttributeError\u001b[0m: 'Document' object has no attribute '__context'"
     ]
    }
   ],
   "source": [
    "harry_potter_book.intercept_context(10)\n",
    "print(harry_potter_book.get_context_length())\n",
    "print(harry_potter_book.__context) # 双下划线开头的是私有变量,不可以直接访问,所以会有异常"
   ]
  },
  {
   "cell_type": "markdown",
   "metadata": {},
   "source": [
    "* 类: 这里对应的python的class\n",
    "* 对象: 对应一个具体的事务,这里指的是harry_potter_book\n",
    "* 属性: 对象的静态特征,比如上述代码中的title,author,__context\n",
    "* 函数: 对象的行为,比如上述中的intercept_context()函数"
   ]
  },
  {
   "cell_type": "markdown",
   "metadata": {},
   "source": [
    "init表示构造函数,即一个对象生成时会被自定调用的函数"
   ]
  },
  {
   "cell_type": "markdown",
   "metadata": {},
   "source": [
    "* 一个类中定义一些常量\n",
    "* 一个函数不涉及到访问修改这个类的属性,而放大类外面有点不恰当,怎么做才能更优雅\n",
    "* 类时一群相似的对象的集合,那么可不可以是一群相似的类的集合"
   ]
  },
  {
   "cell_type": "code",
   "execution_count": 3,
   "metadata": {},
   "outputs": [],
   "source": [
    "class Document():\n",
    "    WELCOME_STR = 'welcome! the context for this book is {}.'\n",
    "    def __init__(self, title, author, context):\n",
    "        print('init function called')\n",
    "        self.title = title\n",
    "        self.author = author\n",
    "        self.__context = context\n",
    "    \n",
    "    #类函数\n",
    "    #类函数的第一个参数一般是cls,表示必须传一个类进来\n",
    "    @classmethod\n",
    "    def create_empty_book(cls, title, author):\n",
    "        return cls(title=title, author=author, context='nothing')\n",
    "    \n",
    "    #成员函数\n",
    "    def get_context_length(self):\n",
    "        return len(self.__context)\n",
    "    \n",
    "    #静态函数\n",
    "    @staticmethod\n",
    "    def get_welcome(context):\n",
    "        return Document.WELCOME_STR.format(context)"
   ]
  },
  {
   "cell_type": "code",
   "execution_count": 4,
   "metadata": {},
   "outputs": [
    {
     "name": "stdout",
     "output_type": "stream",
     "text": [
      "init function called\n"
     ]
    }
   ],
   "source": [
    "#调用类函数\n",
    "empty_book = Document.create_empty_book('what every man thinks about apart from sex','Professor Sheridan Simove')"
   ]
  },
  {
   "cell_type": "code",
   "execution_count": 5,
   "metadata": {},
   "outputs": [
    {
     "name": "stdout",
     "output_type": "stream",
     "text": [
      "7\n",
      "welcome! the context for this book is indeed nothing.\n",
      "welcome! the context for this book is static method invoke.\n"
     ]
    }
   ],
   "source": [
    "print(empty_book.get_context_length())\n",
    "#静态方法调用\n",
    "print(empty_book.get_welcome('indeed nothing'))\n",
    "print(Document.get_welcome(\"static method invoke\"))"
   ]
  },
  {
   "cell_type": "markdown",
   "metadata": {},
   "source": [
    "* WELCOME_STR 就是常量\n"
   ]
  },
  {
   "cell_type": "code",
   "execution_count": 10,
   "metadata": {},
   "outputs": [
    {
     "data": {
      "text/plain": [
       "'welcome! the context for this book is {}.'"
      ]
     },
     "execution_count": 10,
     "metadata": {},
     "output_type": "execute_result"
    }
   ],
   "source": [
    "Document.WELCOME_STR"
   ]
  },
  {
   "cell_type": "markdown",
   "metadata": {},
   "source": [
    "第二个问题,我们提出类函数,成员函数,静态函数三个概念<br/>\n",
    "前两个的影响是动态的,能够访问或者修改对象的属性<br/>\n",
    "而静态函数则和类没有什么关系,静态函数的第一个参数没有任何特殊性"
   ]
  },
  {
   "cell_type": "markdown",
   "metadata": {},
   "source": [
    "类函数的第一个参数一般是cls,表示必须传一个类进来.类函数最常用的功能是实现不同的init构造函数,类函数需要装饰器@classmethod来声明"
   ]
  },
  {
   "cell_type": "markdown",
   "metadata": {},
   "source": [
    "### 2.继承"
   ]
  },
  {
   "cell_type": "code",
   "execution_count": 11,
   "metadata": {},
   "outputs": [],
   "source": [
    "class Entity():\n",
    "    def __init__(self,object_type):\n",
    "        print(\"parent class init called\")\n",
    "        self.object_type = object_type\n",
    "    def get_context_length(self):\n",
    "        raise Exception('get_context_length not implemented')\n",
    "        \n",
    "    def print_title(self):\n",
    "        print(self.title)"
   ]
  },
  {
   "cell_type": "code",
   "execution_count": 12,
   "metadata": {},
   "outputs": [],
   "source": [
    "class Document(Entity):\n",
    "    def __init__(self, title, author, context):\n",
    "        Entity.__init__(self,'document')\n",
    "        self.title = title\n",
    "        self.author = author\n",
    "        self.__context=context\n",
    "    def get_context_length(self):\n",
    "        return len(self.__context)"
   ]
  },
  {
   "cell_type": "code",
   "execution_count": 13,
   "metadata": {},
   "outputs": [],
   "source": [
    "class Video(Entity):\n",
    "    def __init__(self, title, author, video_length):\n",
    "        print('video class init called')\n",
    "        #必须主动调用父类的构造\n",
    "        Entity.__init__(self,'video')\n",
    "        self.title=title\n",
    "        self.author=author\n",
    "        self.__video_length = video_length\n",
    "    def get_context_length(self):\n",
    "        return self.__video_length"
   ]
  },
  {
   "cell_type": "code",
   "execution_count": 15,
   "metadata": {},
   "outputs": [
    {
     "name": "stdout",
     "output_type": "stream",
     "text": [
      "parent class init called\n",
      "video class init called\n",
      "parent class init called\n",
      "document\n",
      "video\n",
      "Harry Potter(Book)\n",
      "Harry potter(Movie)\n",
      "77\n",
      "120\n"
     ]
    }
   ],
   "source": [
    "harry_potter_book = Document('Harry Potter(Book)','J.K.Rowling','... Forever Do not believe any thing is capable of thinking independently ...')\n",
    "harry_potter_movie = Video('Harry potter(Movie)','J.K.Rowling',120)\n",
    "\n",
    "print(harry_potter_book.object_type)\n",
    "print(harry_potter_movie.object_type)\n",
    "\n",
    "harry_potter_book.print_title()\n",
    "harry_potter_movie.print_title()\n",
    "\n",
    "print(harry_potter_book.get_context_length())\n",
    "print(harry_potter_movie.get_context_length())"
   ]
  },
  {
   "cell_type": "markdown",
   "metadata": {},
   "source": [
    "每个类都有构造函数,继承类在生成对象的时候,是不会自动调用父类的构造函数的,必须在init()函数中显式调用父类构造函数,执行顺序是子类构造函数->父类构造函数"
   ]
  },
  {
   "cell_type": "markdown",
   "metadata": {},
   "source": [
    "### 3.抽象函数和抽象类"
   ]
  },
  {
   "cell_type": "code",
   "execution_count": 16,
   "metadata": {},
   "outputs": [],
   "source": [
    "from abc import ABCMeta, abstractmethod"
   ]
  },
  {
   "cell_type": "code",
   "execution_count": 17,
   "metadata": {},
   "outputs": [],
   "source": [
    "class Entity(metaclass=ABCMeta):\n",
    "    @abstractmethod\n",
    "    def get_title(self):\n",
    "        pass\n",
    "    @abstractmethod\n",
    "    def set_title(self, title):\n",
    "        pass"
   ]
  },
  {
   "cell_type": "code",
   "execution_count": 18,
   "metadata": {},
   "outputs": [],
   "source": [
    "class Document(Entity):\n",
    "    def get_title(self):\n",
    "        return self.title\n",
    "    def set_title(self, title):\n",
    "        self.title = title"
   ]
  },
  {
   "cell_type": "code",
   "execution_count": 19,
   "metadata": {},
   "outputs": [
    {
     "name": "stdout",
     "output_type": "stream",
     "text": [
      "harry potter\n"
     ]
    },
    {
     "ename": "TypeError",
     "evalue": "Can't instantiate abstract class Entity with abstract methods get_title, set_title",
     "output_type": "error",
     "traceback": [
      "\u001b[1;31m---------------------------------------------------------------------------\u001b[0m",
      "\u001b[1;31mTypeError\u001b[0m                                 Traceback (most recent call last)",
      "\u001b[1;32m<ipython-input-19-e971c47b7f78>\u001b[0m in \u001b[0;36m<module>\u001b[1;34m\u001b[0m\n\u001b[0;32m      2\u001b[0m \u001b[0mdocument\u001b[0m\u001b[1;33m.\u001b[0m\u001b[0mset_title\u001b[0m\u001b[1;33m(\u001b[0m\u001b[1;34m'harry potter'\u001b[0m\u001b[1;33m)\u001b[0m\u001b[1;33m\u001b[0m\u001b[1;33m\u001b[0m\u001b[0m\n\u001b[0;32m      3\u001b[0m \u001b[0mprint\u001b[0m\u001b[1;33m(\u001b[0m\u001b[0mdocument\u001b[0m\u001b[1;33m.\u001b[0m\u001b[0mget_title\u001b[0m\u001b[1;33m(\u001b[0m\u001b[1;33m)\u001b[0m\u001b[1;33m)\u001b[0m\u001b[1;33m\u001b[0m\u001b[1;33m\u001b[0m\u001b[0m\n\u001b[1;32m----> 4\u001b[1;33m \u001b[0mentity\u001b[0m \u001b[1;33m=\u001b[0m \u001b[0mEntity\u001b[0m\u001b[1;33m(\u001b[0m\u001b[1;33m)\u001b[0m\u001b[1;33m\u001b[0m\u001b[1;33m\u001b[0m\u001b[0m\n\u001b[0m",
      "\u001b[1;31mTypeError\u001b[0m: Can't instantiate abstract class Entity with abstract methods get_title, set_title"
     ]
    }
   ],
   "source": [
    "document = Document()\n",
    "document.set_title('harry potter')\n",
    "print(document.get_title())\n",
    "entity = Entity()"
   ]
  },
  {
   "cell_type": "markdown",
   "metadata": {},
   "source": [
    "抽象类是一种特殊类,不能对象化,存在就是为了当父类,抽象函数则用@abstractmethod来表示"
   ]
  },
  {
   "cell_type": "code",
   "execution_count": 22,
   "metadata": {},
   "outputs": [],
   "source": [
    "class A():\n",
    "    def __init__(self):\n",
    "        print(\"A init called\")\n",
    "class B(A):\n",
    "    def __init__(self):\n",
    "        print(\"B init called\")\n",
    "        A.__init__(self)\n",
    "        \n",
    "class C(A):\n",
    "    def __init__(self):\n",
    "        print(\"C init called\")\n",
    "        A.__init__(self)\n",
    "class D(B, C):\n",
    "    def __init__(self):\n",
    "        print(\"D init called\")\n",
    "        B.__init__(self)\n",
    "        C.__init__(self)"
   ]
  },
  {
   "cell_type": "code",
   "execution_count": 23,
   "metadata": {},
   "outputs": [
    {
     "name": "stdout",
     "output_type": "stream",
     "text": [
      "D init called\n",
      "B init called\n",
      "A init called\n",
      "C init called\n",
      "A init called\n"
     ]
    }
   ],
   "source": [
    "d = D()"
   ]
  }
 ],
 "metadata": {
  "kernelspec": {
   "display_name": "Python 3",
   "language": "python",
   "name": "python3"
  },
  "language_info": {
   "codemirror_mode": {
    "name": "ipython",
    "version": 3
   },
   "file_extension": ".py",
   "mimetype": "text/x-python",
   "name": "python",
   "nbconvert_exporter": "python",
   "pygments_lexer": "ipython3",
   "version": "3.7.4"
  }
 },
 "nbformat": 4,
 "nbformat_minor": 2
}
