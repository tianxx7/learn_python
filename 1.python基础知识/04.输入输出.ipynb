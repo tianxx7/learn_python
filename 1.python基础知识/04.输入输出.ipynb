{
 "cells": [
  {
   "cell_type": "markdown",
   "metadata": {},
   "source": [
    "## 1.输入输出基础"
   ]
  },
  {
   "cell_type": "code",
   "execution_count": 1,
   "metadata": {},
   "outputs": [
    {
     "name": "stdout",
     "output_type": "stream",
     "text": [
      "your name:txx\n",
      "you are a boy?(y/n)y\n",
      "name:txx\n",
      "boy:y\n"
     ]
    }
   ],
   "source": [
    "name = input(\"your name:\")\n",
    "gender = input(\"you are a boy?(y/n)\")\n",
    "print(\"name:{}\".format(name))\n",
    "print(\"boy:{}\".format(gender))"
   ]
  },
  {
   "cell_type": "code",
   "execution_count": 2,
   "metadata": {},
   "outputs": [
    {
     "name": "stdout",
     "output_type": "stream",
     "text": [
      "authorizing...\n",
      "welcome to Mr. txx.\n"
     ]
    }
   ],
   "source": [
    "welcome_str = 'welcome to {prefix} {name}.'\n",
    "welcome_dic = {\n",
    "    'prefix':'Mr.' if gender == 'y' else 'Mrs',\n",
    "    'name':name\n",
    "}\n",
    "print('authorizing...')\n",
    "print(welcome_str.format(**welcome_dic))"
   ]
  },
  {
   "cell_type": "markdown",
   "metadata": {},
   "source": [
    "input()函数暂停程序运行,同时等待键盘输入;直到回车被按下,函数的参数即为提示语,输入的类型永远是字符串型(str)<br/>"
   ]
  },
  {
   "cell_type": "code",
   "execution_count": 3,
   "metadata": {},
   "outputs": [
    {
     "name": "stdout",
     "output_type": "stream",
     "text": [
      "1\n"
     ]
    }
   ],
   "source": [
    "a = input()"
   ]
  },
  {
   "cell_type": "code",
   "execution_count": 4,
   "metadata": {},
   "outputs": [
    {
     "name": "stdout",
     "output_type": "stream",
     "text": [
      "2\n"
     ]
    }
   ],
   "source": [
    "b = input()"
   ]
  },
  {
   "cell_type": "code",
   "execution_count": 5,
   "metadata": {},
   "outputs": [
    {
     "name": "stdout",
     "output_type": "stream",
     "text": [
      "a+b = 12\n"
     ]
    }
   ],
   "source": [
    "print('a+b = {}'.format(a + b))"
   ]
  },
  {
   "cell_type": "code",
   "execution_count": 6,
   "metadata": {},
   "outputs": [
    {
     "name": "stdout",
     "output_type": "stream",
     "text": [
      "type of a is <class 'str'>,type of b is <class 'str'>\n"
     ]
    }
   ],
   "source": [
    "print('type of a is {},type of b is {}'.format(type(a),type(b)))"
   ]
  },
  {
   "cell_type": "code",
   "execution_count": 7,
   "metadata": {},
   "outputs": [
    {
     "name": "stdout",
     "output_type": "stream",
     "text": [
      "a + b = 3\n"
     ]
    }
   ],
   "source": [
    "print('a + b = {}'.format(int(a)+int(b)))"
   ]
  },
  {
   "cell_type": "markdown",
   "metadata": {},
   "source": [
    "str强制转换为int,请用int()<br/>\n",
    "str转为浮点数请用float()<br/>\n",
    "记得加try except 类型转换失败处理"
   ]
  },
  {
   "cell_type": "markdown",
   "metadata": {},
   "source": [
    "## 2.文件读写"
   ]
  },
  {
   "cell_type": "markdown",
   "metadata": {},
   "source": [
    "对文件in.txt做个NLP任务:<br/>\n",
    "* 读取文件\n",
    "* 去除所有标点符号和换行符,并把所有大写变小写\n",
    "* 合并相同的词,统计每个词出现的频率,并按照词频从大到小排序\n",
    "* 将结果按行输出到文件out.txt"
   ]
  },
  {
   "cell_type": "code",
   "execution_count": 12,
   "metadata": {},
   "outputs": [],
   "source": [
    "import re\n",
    "\n",
    "def parse(text):\n",
    "    #使用正则表达式去除标点符号和换行符\n",
    "    text = re.sub(r'[^\\w]', ' ', text)\n",
    "    #转为小写\n",
    "    text = text.lower()\n",
    "    \n",
    "    #生成所有单词的列表\n",
    "    word_list = text.split(' ')\n",
    "    \n",
    "    #去除空白单词\n",
    "    word_list = filter(None,word_list)\n",
    "    #生成单词和词频字典\n",
    "    word_cnt = {}\n",
    "    for word in word_list:\n",
    "        if word not in word_cnt:\n",
    "            word_cnt[word] = 0\n",
    "        word_cnt[word] +=1\n",
    "    \n",
    "    #按照词频排序\n",
    "    sorted_word_cnt = sorted(word_cnt.items(),key=lambda kv:kv[1],reverse=True)\n",
    "    \n",
    "    return sorted_word_cnt\n",
    "with open('../resources/in.txt','r') as fin:\n",
    "    text=fin.read()\n",
    "\n",
    "word_and_freq = parse(text)\n",
    "\n",
    "with open('../resources/out.txt','w') as fout:\n",
    "    for word, freq in word_and_freq:\n",
    "        fout.write('{} {}\\n'.format(word, freq))"
   ]
  },
  {
   "cell_type": "markdown",
   "metadata": {},
   "source": [
    "#### open()函数:<br/>\n",
    "第一个参数是文件位置<br/>\n",
    "第二个参数是模式,'r'只读,'w'写入,'rw'读写都要,'a'代表追加<br/>\n",
    "#### read()函数<br/>\n",
    "文件过大的话read可能会造成内存崩溃<br/>\n",
    "这时可以指定参数size,用来表示读取的最大长度<br/>\n",
    "还可以通过readline()函数,每次读取一行,这种方式常用于数据挖掘中的数据清洗\n",
    "#### write()函数<br/>\n",
    "参数中的字符输出到文件中\n"
   ]
  },
  {
   "cell_type": "markdown",
   "metadata": {},
   "source": [
    "### JSON"
   ]
  },
  {
   "cell_type": "code",
   "execution_count": 14,
   "metadata": {},
   "outputs": [
    {
     "name": "stdout",
     "output_type": "stream",
     "text": [
      "after json serialization\n",
      "type of params_str = <class 'str'>, params_str = {'symbol': '123456', 'type': 'limit', 'price': 123.4, 'amount': 23}\n",
      "after json deserialization\n",
      "type of original_params = <class 'dict'>, original_params = {'symbol': '123456', 'type': 'limit', 'price': 123.4, 'amount': 23}\n"
     ]
    }
   ],
   "source": [
    "import json\n",
    "params = {\n",
    "    'symbol': '123456',\n",
    "    'type': 'limit',\n",
    "    'price': 123.4,\n",
    "    'amount': 23\n",
    "}\n",
    "\n",
    "params_str = json.dumps(params)\n",
    "\n",
    "print('after json serialization')\n",
    "print('type of params_str = {}, params_str = {}'.format(type(params_str), params))\n",
    "\n",
    "original_params = json.loads(params_str)\n",
    "\n",
    "print('after json deserialization')\n",
    "print('type of original_params = {}, original_params = {}'.format(type(original_params), original_params))"
   ]
  },
  {
   "cell_type": "markdown",
   "metadata": {},
   "source": [
    "#### json.dumps()函数\n",
    "接受Python的基本数据类型,然后将其序列化为string;\n",
    "#### json.loads()\n",
    "接受一个合法字符串,然后将其反序列化为Python的基本数据类型"
   ]
  },
  {
   "cell_type": "code",
   "execution_count": 15,
   "metadata": {},
   "outputs": [
    {
     "name": "stdout",
     "output_type": "stream",
     "text": [
      "after json deserialization\n",
      "type of original_params = <class 'dict'>, original_params = {'symbol': '123456', 'type': 'limit', 'price': 123.4, 'amount': 23}\n"
     ]
    }
   ],
   "source": [
    "import json\n",
    "\n",
    "params = {\n",
    "    'symbol': '123456',\n",
    "    'type': 'limit',\n",
    "    'price': 123.4,\n",
    "    'amount': 23\n",
    "}\n",
    "\n",
    "with open('params.json', 'w') as fout:\n",
    "    params_str = json.dump(params, fout)\n",
    "\n",
    "with open('params.json', 'r') as fin:\n",
    "    original_params = json.load(fin)\n",
    "\n",
    "print('after json deserialization')\n",
    "print('type of original_params = {}, original_params = {}'.format(type(original_params), original_params))\n",
    "    "
   ]
  }
 ],
 "metadata": {
  "kernelspec": {
   "display_name": "Python 3",
   "language": "python",
   "name": "python3"
  },
  "language_info": {
   "codemirror_mode": {
    "name": "ipython",
    "version": 3
   },
   "file_extension": ".py",
   "mimetype": "text/x-python",
   "name": "python",
   "nbconvert_exporter": "python",
   "pygments_lexer": "ipython3",
   "version": "3.6.4"
  }
 },
 "nbformat": 4,
 "nbformat_minor": 2
}
